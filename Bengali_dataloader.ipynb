{
 "cells": [
  {
   "cell_type": "code",
   "execution_count": 1,
   "metadata": {},
   "outputs": [],
   "source": [
    "from __future__ import print_function, division\n",
    "import os \n",
    "import torch \n",
    "import pandas as pd \n",
    "from skimage import io, transform \n",
    "import numpy as np \n",
    "import matplotlib.pyplot as plt \n",
    "from torch.utils.data import Dataset, DataLoader\n",
    "from torchvision import transforms, utils"
   ]
  },
  {
   "cell_type": "code",
   "execution_count": 23,
   "metadata": {},
   "outputs": [],
   "source": [
    "\n",
    "\n",
    "class BengaliDataLoader(Dataset):\n",
    "    def __init__(self, image_folder, label_file, transform=None):\n",
    "        self.image_folder = image_folder  \n",
    "        \n",
    "        self.label_file = pd.read_csv(label_file)\n",
    "        self.grapheme  =  self.label_file.grapheme_root\n",
    "        self.vowel = self.label_file.vowel_diacritic\n",
    "        self.consonant = self.label_file.consonant_diacritic\n",
    "        self.label_file = self.label_file.image_id\n",
    "        self.transform = None\n",
    "        \n",
    "    # Magic function \n",
    "    def __len__(self):\n",
    "        return len(self.label_file)\n",
    "\n",
    "    def __getitem__(self, idx):\n",
    "        if torch.is_tensor(idx):\n",
    "            idx = idx.tolist()\n",
    "        img_name = os.path.join(self.image_folder, '{}.png'.format(self.label_file.iloc[idx]) \n",
    "                                )\n",
    "        image = io.imread(img_name)\n",
    "        label = self.label_file.iloc[idx]\n",
    "        grapheme = self.grapheme.iloc[idx]\n",
    "        vowel = self.vowel.iloc[idx]\n",
    "        consonant = self.consonant[idx]\n",
    "        sample = {'image' : image, 'label' : label, \n",
    "                 'grapheme': grapheme, \n",
    "                 'vowel' : vowel, \n",
    "                 'consonant' : consonant}\n",
    "        grapheme  =  label[0]\n",
    "        vowel  = label[1]\n",
    "        consonant = label[2] \n",
    "        if self.transform:\n",
    "            sample = self.transform(sample)\n",
    "        return sample\n",
    "        "
   ]
  },
  {
   "cell_type": "code",
   "execution_count": 24,
   "metadata": {},
   "outputs": [],
   "source": [
    "train = BengaliDataLoader('data_png/', 'data/train.csv')"
   ]
  },
  {
   "cell_type": "code",
   "execution_count": 25,
   "metadata": {},
   "outputs": [
    {
     "data": {
      "text/plain": [
       "{'image': array([[251, 249, 252, ..., 254, 254, 254],\n",
       "        [253, 251, 252, ..., 254, 254, 254],\n",
       "        [253, 253, 253, ..., 254, 254, 254],\n",
       "        ...,\n",
       "        [252, 252, 254, ..., 254, 254, 254],\n",
       "        [249, 249, 254, ..., 253, 253, 253],\n",
       "        [250, 251, 254, ..., 253, 252, 252]], dtype=uint8),\n",
       " 'label': 'Train_9',\n",
       " 'grapheme': 64,\n",
       " 'vowel': 7,\n",
       " 'consnant': 1}"
      ]
     },
     "execution_count": 25,
     "metadata": {},
     "output_type": "execute_result"
    }
   ],
   "source": [
    "train[9]"
   ]
  },
  {
   "cell_type": "code",
   "execution_count": 28,
   "metadata": {},
   "outputs": [
    {
     "data": {
      "text/plain": [
       "200840"
      ]
     },
     "execution_count": 28,
     "metadata": {},
     "output_type": "execute_result"
    }
   ],
   "source": [
    "len(os.listdir('data_png'))"
   ]
  },
  {
   "cell_type": "raw",
   "metadata": {},
   "source": []
  }
 ],
 "metadata": {
  "kernelspec": {
   "display_name": "Python 3",
   "language": "python",
   "name": "python3"
  },
  "language_info": {
   "codemirror_mode": {
    "name": "ipython",
    "version": 3
   },
   "file_extension": ".py",
   "mimetype": "text/x-python",
   "name": "python",
   "nbconvert_exporter": "python",
   "pygments_lexer": "ipython3",
   "version": "3.6.8"
  }
 },
 "nbformat": 4,
 "nbformat_minor": 2
}
